{
 "cells": [
  {
   "cell_type": "markdown",
   "metadata": {
    "colab_type": "text",
    "id": "kR-4eNdK6lYS"
   },
   "source": [
    "Deep Learning\n",
    "=============\n",
    "\n",
    "Assignment 3\n",
    "------------\n",
    "\n",
    "Previously in `2_fullyconnected.ipynb`, you trained a logistic regression and a neural network model.\n",
    "\n",
    "The goal of this assignment is to explore regularization techniques."
   ]
  },
  {
   "cell_type": "code",
   "execution_count": 1,
   "metadata": {
    "cellView": "both",
    "colab": {
     "autoexec": {
      "startup": false,
      "wait_interval": 0
     }
    },
    "colab_type": "code",
    "collapsed": true,
    "id": "JLpLa8Jt7Vu4"
   },
   "outputs": [],
   "source": [
    "# These are all the modules we'll be using later. Make sure you can import them\n",
    "# before proceeding further.\n",
    "from __future__ import print_function\n",
    "import numpy as np\n",
    "import tensorflow as tf\n",
    "from six.moves import cPickle as pickle"
   ]
  },
  {
   "cell_type": "markdown",
   "metadata": {
    "colab_type": "text",
    "id": "1HrCK6e17WzV"
   },
   "source": [
    "First reload the data we generated in _notmist.ipynb_."
   ]
  },
  {
   "cell_type": "code",
   "execution_count": 2,
   "metadata": {
    "cellView": "both",
    "colab": {
     "autoexec": {
      "startup": false,
      "wait_interval": 0
     },
     "output_extras": [
      {
       "item_id": 1
      }
     ]
    },
    "colab_type": "code",
    "collapsed": false,
    "executionInfo": {
     "elapsed": 11777,
     "status": "ok",
     "timestamp": 1449849322348,
     "user": {
      "color": "",
      "displayName": "",
      "isAnonymous": false,
      "isMe": true,
      "permissionId": "",
      "photoUrl": "",
      "sessionId": "0",
      "userId": ""
     },
     "user_tz": 480
    },
    "id": "y3-cj1bpmuxc",
    "outputId": "e03576f1-ebbe-4838-c388-f1777bcc9873"
   },
   "outputs": [
    {
     "name": "stdout",
     "output_type": "stream",
     "text": [
      "Training set (200000, 28, 28) (200000,)\n",
      "Validation set (10000, 28, 28) (10000,)\n",
      "Test set (10000, 28, 28) (10000,)\n"
     ]
    }
   ],
   "source": [
    "pickle_file = 'notMNIST.pickle'\n",
    "\n",
    "with open(pickle_file, 'rb') as f:\n",
    "  save = pickle.load(f)\n",
    "  train_dataset = save['train_dataset']\n",
    "  train_labels = save['train_labels']\n",
    "  valid_dataset = save['valid_dataset']\n",
    "  valid_labels = save['valid_labels']\n",
    "  test_dataset = save['test_dataset']\n",
    "  test_labels = save['test_labels']\n",
    "  del save  # hint to help gc free up memory\n",
    "  print('Training set', train_dataset.shape, train_labels.shape)\n",
    "  print('Validation set', valid_dataset.shape, valid_labels.shape)\n",
    "  print('Test set', test_dataset.shape, test_labels.shape)"
   ]
  },
  {
   "cell_type": "markdown",
   "metadata": {
    "colab_type": "text",
    "id": "L7aHrm6nGDMB"
   },
   "source": [
    "Reformat into a shape that's more adapted to the models we're going to train:\n",
    "- data as a flat matrix,\n",
    "- labels as float 1-hot encodings."
   ]
  },
  {
   "cell_type": "code",
   "execution_count": 3,
   "metadata": {
    "cellView": "both",
    "colab": {
     "autoexec": {
      "startup": false,
      "wait_interval": 0
     },
     "output_extras": [
      {
       "item_id": 1
      }
     ]
    },
    "colab_type": "code",
    "collapsed": false,
    "executionInfo": {
     "elapsed": 11728,
     "status": "ok",
     "timestamp": 1449849322356,
     "user": {
      "color": "",
      "displayName": "",
      "isAnonymous": false,
      "isMe": true,
      "permissionId": "",
      "photoUrl": "",
      "sessionId": "0",
      "userId": ""
     },
     "user_tz": 480
    },
    "id": "IRSyYiIIGIzS",
    "outputId": "3f8996ee-3574-4f44-c953-5c8a04636582"
   },
   "outputs": [
    {
     "name": "stdout",
     "output_type": "stream",
     "text": [
      "Training set (200000, 784) (200000, 10)\n",
      "Validation set (10000, 784) (10000, 10)\n",
      "Test set (10000, 784) (10000, 10)\n"
     ]
    }
   ],
   "source": [
    "image_size = 28\n",
    "num_labels = 10\n",
    "\n",
    "def reformat(dataset, labels):\n",
    "  dataset = dataset.reshape((-1, image_size * image_size)).astype(np.float32)\n",
    "  # Map 2 to [0.0, 1.0, 0.0 ...], 3 to [0.0, 0.0, 1.0 ...]\n",
    "  labels = (np.arange(num_labels) == labels[:,None]).astype(np.float32)\n",
    "  return dataset, labels\n",
    "train_dataset, train_labels = reformat(train_dataset, train_labels)\n",
    "valid_dataset, valid_labels = reformat(valid_dataset, valid_labels)\n",
    "test_dataset, test_labels = reformat(test_dataset, test_labels)\n",
    "print('Training set', train_dataset.shape, train_labels.shape)\n",
    "print('Validation set', valid_dataset.shape, valid_labels.shape)\n",
    "print('Test set', test_dataset.shape, test_labels.shape)"
   ]
  },
  {
   "cell_type": "code",
   "execution_count": 4,
   "metadata": {
    "cellView": "both",
    "colab": {
     "autoexec": {
      "startup": false,
      "wait_interval": 0
     }
    },
    "colab_type": "code",
    "collapsed": true,
    "id": "RajPLaL_ZW6w"
   },
   "outputs": [],
   "source": [
    "def accuracy(predictions, labels):\n",
    "  return (100.0 * np.sum(np.argmax(predictions, 1) == np.argmax(labels, 1))\n",
    "          / predictions.shape[0])"
   ]
  },
  {
   "cell_type": "markdown",
   "metadata": {
    "colab_type": "text",
    "id": "sgLbUAQ1CW-1"
   },
   "source": [
    "---\n",
    "Problem 1\n",
    "---------\n",
    "\n",
    "Introduce and tune L2 regularization for both logistic and neural network models. Remember that L2 amounts to adding a penalty on the norm of the weights to the loss. In TensorFlow, you can compute the L2 loss for a tensor `t` using `nn.l2_loss(t)`. The right amount of regularization should improve your validation / test accuracy.\n",
    "\n",
    "---"
   ]
  },
  {
   "cell_type": "code",
   "execution_count": 10,
   "metadata": {
    "collapsed": true
   },
   "outputs": [],
   "source": [
    "tf.nn.l2_loss?"
   ]
  },
  {
   "cell_type": "code",
   "execution_count": 25,
   "metadata": {
    "collapsed": false
   },
   "outputs": [],
   "source": [
    "batch_size = 128\n",
    "\n",
    "hidden_layer_size = 1024\n",
    "\n",
    "graph = tf.Graph()\n",
    "\n",
    "\n",
    "with graph.as_default():\n",
    "    tf_train_dataset = tf.placeholder(tf.float32, shape = (batch_size, image_size * image_size))\n",
    "    tf_train_labels = tf.placeholder(tf.float32, shape = (batch_size, num_labels))\n",
    "    \n",
    "    tf_valid_dataset = tf.constant(valid_dataset)\n",
    "    tf_test_dataset = tf.constant(test_dataset)\n",
    "    \n",
    "    weights = tf.Variable(tf.truncated_normal([image_size * image_size, hidden_layer_size]))\n",
    "    biases = tf.Variable(tf.zeros([hidden_layer_size]))\n",
    "    \n",
    "    weights_hidden_layer = tf.Variable(tf.truncated_normal([hidden_layer_size, num_labels]))\n",
    "    biases_hidden_layer = tf.Variable(tf.zeros([num_labels]))\n",
    "    \n",
    "    hidden = tf.nn.relu(tf.matmul(tf_train_dataset, weights) + biases)\n",
    "    \n",
    "    logits = tf.matmul(hidden, weights_hidden_layer) + biases_hidden_layer\n",
    "    \n",
    "    loss = tf.reduce_mean(tf.nn.softmax_cross_entropy_with_logits(logits, tf_train_labels))\n",
    "    \n",
    "    reqularizers = (tf.nn.l2_loss(weights) +  tf.nn.l2_loss(biases) + \n",
    "                    tf.nn.l2_loss(weights_hidden_layer) + tf.nn.l2_loss(biases_hidden_layer))\n",
    "    \n",
    "    loss += 8e-03 * reqularizers\n",
    "    \n",
    "    optimizer = tf.train.GradientDescentOptimizer(0.08).minimize(loss)\n",
    "    \n",
    "    \n",
    "    train_prediction = tf.nn.softmax(logits)\n",
    "    test_prediction = tf.nn.softmax(tf.matmul(tf.nn.relu(tf.matmul(tf_test_dataset, weights)) + biases, weights_hidden_layer) + biases_hidden_layer)\n",
    "    valid_prediction = tf.nn.softmax(tf.matmul(tf.nn.relu(tf.matmul(tf_valid_dataset, weights)) + biases, weights_hidden_layer) + biases_hidden_layer)\n",
    "\n",
    "                                   \n",
    "                                 \n"
   ]
  },
  {
   "cell_type": "code",
   "execution_count": 28,
   "metadata": {
    "collapsed": false
   },
   "outputs": [
    {
     "name": "stdout",
     "output_type": "stream",
     "text": [
      "Initialized\n",
      "Minibatch loss at step 0: 2836.768066\n",
      "Minibatch accuracy: 8.6%\n",
      "Validation accuray: 21.8%\n",
      "Minibatch loss at step 500: 1330.656982\n",
      "Minibatch accuracy: 80.5%\n",
      "Validation accuray: 79.6%\n",
      "Minibatch loss at step 1000: 698.217529\n",
      "Minibatch accuracy: 82.8%\n",
      "Validation accuray: 81.0%\n",
      "Minibatch loss at step 1500: 365.353088\n",
      "Minibatch accuracy: 88.3%\n",
      "Validation accuray: 83.0%\n",
      "Minibatch loss at step 2000: 192.199615\n",
      "Minibatch accuracy: 89.1%\n",
      "Validation accuray: 83.8%\n",
      "Minibatch loss at step 2500: 101.557137\n",
      "Minibatch accuracy: 84.4%\n",
      "Validation accuray: 83.4%\n",
      "Minibatch loss at step 3000: 53.825668\n",
      "Minibatch accuracy: 84.4%\n",
      "Validation accuray: 86.0%\n",
      "Testing accuracy: 92.6%\n"
     ]
    }
   ],
   "source": [
    "num_steps = 3001\n",
    "\n",
    "with tf.Session(graph=graph) as session:\n",
    "    tf.initialize_all_variables().run()\n",
    "    print('Initialized')\n",
    "    for step in range(num_steps):\n",
    "        offset = (step * batch_size) % (train_labels.shape[0] - batch_size)\n",
    "        batch_data = train_dataset[offset:(offset + batch_size), ]\n",
    "        batch_labels = train_labels[offset:(offset + batch_size)]\n",
    "        feed_dict = {tf_train_dataset: batch_data, tf_train_labels: batch_labels}\n",
    "        _, l, predictions = session.run([optimizer, loss, train_prediction], feed_dict=feed_dict)\n",
    "        \n",
    "        if ((step % 500) == 0):\n",
    "            print(\"Minibatch loss at step %i: %f\" %(step, l))\n",
    "            print('Minibatch accuracy: %.1f%%' % (accuracy(predictions, batch_labels)))\n",
    "            print('Validation accuray: %.1f%%' % (accuracy(valid_prediction.eval(), valid_labels)))\n",
    "    print('Testing accuracy: %.1f%%' % (accuracy(test_prediction.eval(), test_labels)))\n",
    "        "
   ]
  },
  {
   "cell_type": "markdown",
   "metadata": {
    "colab_type": "text",
    "id": "na8xX2yHZzNF"
   },
   "source": [
    "---\n",
    "Problem 2\n",
    "---------\n",
    "Let's demonstrate an extreme case of overfitting. Restrict your training data to just a few batches. What happens?\n",
    "\n",
    "---"
   ]
  },
  {
   "cell_type": "code",
   "execution_count": 48,
   "metadata": {
    "collapsed": false
   },
   "outputs": [
    {
     "name": "stdout",
     "output_type": "stream",
     "text": [
      "Minibatch loss at step 1: 803.916626\n",
      "Minibatch accuracy: 41.3%\n",
      "Validation accuray: 34.3%\n",
      "Minibatch loss at step 26: 0.000008\n",
      "Minibatch accuracy: 100.0%\n",
      "Validation accuray: 77.5%\n",
      "Minibatch loss at step 51: 0.000003\n",
      "Minibatch accuracy: 100.0%\n",
      "Validation accuray: 77.5%\n",
      "Minibatch loss at step 76: 0.000002\n",
      "Minibatch accuracy: 100.0%\n",
      "Validation accuray: 77.5%\n",
      "Testing accuracy: 85.2%\n"
     ]
    }
   ],
   "source": [
    "batch_size = 1000\n",
    "\n",
    "hidden_layer_size = 1024\n",
    "\n",
    "graph = tf.Graph()\n",
    "\n",
    "\n",
    "with graph.as_default():\n",
    "    tf_train_dataset = tf.placeholder(tf.float32, shape = (batch_size, image_size * image_size))\n",
    "    tf_train_labels = tf.placeholder(tf.float32, shape = (batch_size, num_labels))\n",
    "    \n",
    "    tf_valid_dataset = tf.constant(valid_dataset)\n",
    "    tf_test_dataset = tf.constant(test_dataset)\n",
    "    \n",
    "    weights = tf.Variable(tf.truncated_normal([image_size * image_size, hidden_layer_size]))\n",
    "    biases = tf.Variable(tf.zeros([hidden_layer_size]))\n",
    "    \n",
    "    weights_hidden_layer = tf.Variable(tf.truncated_normal([hidden_layer_size, num_labels]))\n",
    "    biases_hidden_layer = tf.Variable(tf.zeros([num_labels]))\n",
    "    \n",
    "    hidden = tf.nn.relu(tf.matmul(tf_train_dataset, weights) + biases)\n",
    "    \n",
    "    logits = tf.matmul(hidden, weights_hidden_layer) + biases_hidden_layer\n",
    "    \n",
    "    loss = tf.reduce_mean(tf.nn.softmax_cross_entropy_with_logits(logits, tf_train_labels))\n",
    "    \n",
    "    reqularizers = (tf.nn.l2_loss(weights) +  tf.nn.l2_loss(biases) + \n",
    "                    tf.nn.l2_loss(weights_hidden_layer) + tf.nn.l2_loss(biases_hidden_layer))\n",
    "    \n",
    "    loss += 0\n",
    "    \n",
    "    optimizer = tf.train.GradientDescentOptimizer(0.5).minimize(loss)\n",
    "    \n",
    "    \n",
    "    train_prediction = tf.nn.softmax(logits)\n",
    "    test_prediction = tf.nn.softmax(tf.matmul(tf.nn.relu(tf.matmul(tf_test_dataset, weights)) + biases, weights_hidden_layer) + biases_hidden_layer)\n",
    "    valid_prediction = tf.nn.softmax(tf.matmul(tf.nn.relu(tf.matmul(tf_valid_dataset, weights)) + biases, weights_hidden_layer) + biases_hidden_layer)\n",
    "\n",
    "\n",
    "num_steps = 100\n",
    "                                   \n",
    "                            \n",
    "with tf.Session(graph=graph) as session:\n",
    "    tf.initialize_all_variables().run()\n",
    "    train_subset = train_dataset[0:1000,]\n",
    "    train_labels_subset = train_labels[0:1000]\n",
    "    for step in range(0, num_steps):\n",
    "        feed_dict = {tf_train_dataset: train_subset, tf_train_labels: train_labels_subset}\n",
    "        _, l, predictions = session.run([optimizer, loss, train_prediction], feed_dict=feed_dict)\n",
    "        \n",
    "        if ((step % 25) == 1):\n",
    "            print(\"Minibatch loss at step %i: %f\" %(step, l))\n",
    "            print('Minibatch accuracy: %.1f%%' % (accuracy(predictions, train_labels_subset)))\n",
    "            print('Validation accuray: %.1f%%' % (accuracy(valid_prediction.eval(), valid_labels)))\n",
    "    print('Testing accuracy: %.1f%%' % (accuracy(test_prediction.eval(), test_labels)))\n",
    "        "
   ]
  },
  {
   "cell_type": "markdown",
   "metadata": {
    "colab_type": "text",
    "id": "ww3SCBUdlkRc"
   },
   "source": [
    "---\n",
    "Problem 3\n",
    "---------\n",
    "Introduce Dropout on the hidden layer of the neural network. Remember: Dropout should only be introduced during training, not evaluation, otherwise your evaluation results would be stochastic as well. TensorFlow provides `nn.dropout()` for that, but you have to make sure it's only inserted during training.\n",
    "\n",
    "What happens to our extreme overfitting case?\n",
    "\n",
    "---"
   ]
  },
  {
   "cell_type": "code",
   "execution_count": 49,
   "metadata": {
    "collapsed": false
   },
   "outputs": [
    {
     "name": "stdout",
     "output_type": "stream",
     "text": [
      "Minibatch loss at step 1: 1207.234741\n",
      "Minibatch accuracy: 35.0%\n",
      "Validation accuray: 29.1%\n",
      "Minibatch loss at step 26: 137.772491\n",
      "Minibatch accuracy: 79.6%\n",
      "Validation accuray: 74.5%\n",
      "Minibatch loss at step 51: 6.727886\n",
      "Minibatch accuracy: 94.6%\n",
      "Validation accuray: 78.3%\n",
      "Minibatch loss at step 76: 7.324823\n",
      "Minibatch accuracy: 95.9%\n",
      "Validation accuray: 78.7%\n",
      "Testing accuracy: 85.5%\n"
     ]
    }
   ],
   "source": [
    "batch_size = 1000\n",
    "\n",
    "hidden_layer_size = 1024\n",
    "\n",
    "graph = tf.Graph()\n",
    "\n",
    "\n",
    "with graph.as_default():\n",
    "    tf_train_dataset = tf.placeholder(tf.float32, shape = (batch_size, image_size * image_size))\n",
    "    tf_train_labels = tf.placeholder(tf.float32, shape = (batch_size, num_labels))\n",
    "    \n",
    "    tf_valid_dataset = tf.constant(valid_dataset)\n",
    "    tf_test_dataset = tf.constant(test_dataset)\n",
    "    \n",
    "    weights = tf.Variable(tf.truncated_normal([image_size * image_size, hidden_layer_size]))\n",
    "    biases = tf.Variable(tf.zeros([hidden_layer_size]))\n",
    "    \n",
    "    weights_hidden_layer = tf.Variable(tf.truncated_normal([hidden_layer_size, num_labels]))\n",
    "    biases_hidden_layer = tf.Variable(tf.zeros([num_labels]))\n",
    "    \n",
    "    hidden = tf.nn.relu(tf.matmul(tf_train_dataset, weights) + biases)\n",
    "    \n",
    "    weights_dropout = tf.nn.dropout(weights_hidden_layer, keep_prob = 0.5)\n",
    "    \n",
    "    logits = tf.matmul(hidden, weights_dropout) + biases_hidden_layer\n",
    "    \n",
    "    loss = tf.reduce_mean(tf.nn.softmax_cross_entropy_with_logits(logits, tf_train_labels))\n",
    "    \n",
    "    reqularizers = (tf.nn.l2_loss(weights) +  tf.nn.l2_loss(biases) + \n",
    "                    tf.nn.l2_loss(weights_hidden_layer) + tf.nn.l2_loss(biases_hidden_layer))\n",
    "    \n",
    "    loss += 0\n",
    "    \n",
    "\n",
    "    \n",
    "    optimizer = tf.train.GradientDescentOptimizer(0.5).minimize(loss)\n",
    "\n",
    "\n",
    "    \n",
    "    train_prediction = tf.nn.softmax(logits)\n",
    "    test_prediction = tf.nn.softmax(tf.matmul(tf.nn.relu(tf.matmul(tf_test_dataset, weights)) + biases, weights_hidden_layer) + biases_hidden_layer)\n",
    "    valid_prediction = tf.nn.softmax(tf.matmul(tf.nn.relu(tf.matmul(tf_valid_dataset, weights)) + biases, weights_hidden_layer) + biases_hidden_layer)\n",
    "\n",
    "\n",
    "num_steps = 100\n",
    "                                   \n",
    "                            \n",
    "with tf.Session(graph=graph) as session:\n",
    "    tf.initialize_all_variables().run()\n",
    "    train_subset = train_dataset[0:1000,]\n",
    "    train_labels_subset = train_labels[0:1000]\n",
    "    for step in range(0, num_steps):\n",
    "        feed_dict = {tf_train_dataset: train_subset, tf_train_labels: train_labels_subset}\n",
    "        _, l, predictions = session.run([optimizer, loss, train_prediction], feed_dict=feed_dict)\n",
    "        \n",
    "        if ((step % 25) == 1):\n",
    "            print(\"Minibatch loss at step %i: %f\" %(step, l))\n",
    "            print('Minibatch accuracy: %.1f%%' % (accuracy(predictions, train_labels_subset)))\n",
    "            print('Validation accuray: %.1f%%' % (accuracy(valid_prediction.eval(), valid_labels)))\n",
    "    print('Testing accuracy: %.1f%%' % (accuracy(test_prediction.eval(), test_labels)))\n",
    "        "
   ]
  },
  {
   "cell_type": "markdown",
   "metadata": {
    "colab_type": "text",
    "id": "-b1hTz3VWZjw"
   },
   "source": [
    "---\n",
    "Problem 4\n",
    "---------\n",
    "\n",
    "Try to get the best performance you can using a multi-layer model! The best reported test accuracy using a deep network is [97.1%](http://yaroslavvb.blogspot.com/2011/09/notmnist-dataset.html?showComment=1391023266211#c8758720086795711595).\n",
    "\n",
    "One avenue you can explore is to add multiple layers.\n",
    "\n",
    "Another one is to use learning rate decay:\n",
    "\n",
    "    global_step = tf.Variable(0)  # count the number of steps taken.\n",
    "    learning_rate = tf.train.exponential_decay(0.5, global_step, ...)\n",
    "    optimizer = tf.train.GradientDescentOptimizer(learning_rate).minimize(loss, global_step=global_step)\n",
    " \n",
    " ---\n"
   ]
  },
  {
   "cell_type": "code",
   "execution_count": 86,
   "metadata": {
    "collapsed": false
   },
   "outputs": [],
   "source": [
    "batch_size = 128\n",
    "\n",
    "hidden_layer_size1 = 1024\n",
    "hidden_layer_size2 = 1024\n",
    "\n",
    "graph = tf.Graph()\n",
    "\n",
    "\n",
    "with graph.as_default():\n",
    "    tf_train_dataset = tf.placeholder(tf.float32, shape = (batch_size, image_size * image_size))\n",
    "    tf_train_labels = tf.placeholder(tf.float32, shape = (batch_size, num_labels))\n",
    "    \n",
    "    tf_valid_dataset = tf.constant(valid_dataset)\n",
    "    tf_test_dataset = tf.constant(test_dataset)\n",
    "    \n",
    "    ## Hidden layer one\n",
    "    weights_hidden_layer1 = tf.Variable(tf.truncated_normal([image_size * image_size, hidden_layer_size1]))\n",
    "    biases_hidden_layer1 = tf.Variable(tf.zeros([hidden_layer_size1]))\n",
    "    hidden1 = tf.nn.relu(tf.matmul(tf_train_dataset, weights_hidden_layer1) + biases_hidden_layer1)\n",
    "\n",
    "    ## Hidden layer two\n",
    "    weights_hidden_layer2 = tf.Variable(tf.truncated_normal([hidden_layer_size1, hidden_layer_size2]))\n",
    "    biases_hidden_layer2 = tf.Variable(tf.zeros([hidden_layer_size2]))\n",
    "    hidden2 = tf.nn.relu(tf.matmul(hidden1, weights_hidden_layer2) + biases_hidden_layer2)\n",
    "    \n",
    "    ## Output layer\n",
    "    weights = tf.Variable(tf.truncated_normal([hidden_layer_size2, num_labels]))\n",
    "    weights_dropout = tf.nn.dropout(weights, keep_prob = 0.9)\n",
    "\n",
    "    biases = tf.Variable(tf.zeros([num_labels]))\n",
    "    logits = tf.matmul(hidden2, weights_dropout) + biases\n",
    "    \n",
    "    loss = tf.reduce_mean(tf.nn.softmax_cross_entropy_with_logits(logits, tf_train_labels))\n",
    "    \n",
    "    reqularizers = (tf.nn.l2_loss(weights) +  tf.nn.l2_loss(biases) + \n",
    "                    tf.nn.l2_loss(weights_hidden_layer1) + tf.nn.l2_loss(biases_hidden_layer1) +\n",
    "                    tf.nn.l2_loss(weights_hidden_layer2) + tf.nn.l2_loss(biases_hidden_layer2))\n",
    "    \n",
    "    loss += 8e-05 * reqularizers\n",
    "    \n",
    "    global_step = tf.Variable(0)  # count the number of steps taken.\n",
    "    learning_rate = tf.train.exponential_decay(learning_rate=0.001, \n",
    "                                               global_step=global_step, \n",
    "                                              decay_steps=1,\n",
    "                                              decay_rate=0.999)\n",
    "    \n",
    "    optimizer = tf.train.GradientDescentOptimizer(learning_rate).minimize(loss)\n",
    "    \n",
    "    \n",
    "    train_prediction = tf.nn.softmax(logits)\n",
    "    \n",
    "    test_prediction = tf.nn.relu(tf.matmul(tf_test_dataset, weights_hidden_layer1) + biases_hidden_layer1)\n",
    "    test_prediction = tf.nn.relu(tf.matmul(test_prediction, weights_hidden_layer2) + biases_hidden_layer2)\n",
    "    test_prediction = tf.nn.relu(tf.matmul(test_prediction, weights) + biases)\n",
    "    test_prediction = tf.nn.softmax(test_prediction)\n",
    "\n",
    "    valid_prediction = tf.nn.relu(tf.matmul(tf_valid_dataset, weights_hidden_layer1) + biases_hidden_layer1)\n",
    "    valid_prediction = tf.nn.relu(tf.matmul(valid_prediction, weights_hidden_layer2) + biases_hidden_layer2)\n",
    "    valid_prediction = tf.nn.relu(tf.matmul(valid_prediction, weights) + biases)\n",
    "    valid_prediction = tf.nn.softmax(valid_prediction)\n",
    "                                   \n",
    "                             "
   ]
  },
  {
   "cell_type": "code",
   "execution_count": 87,
   "metadata": {
    "collapsed": false
   },
   "outputs": [
    {
     "name": "stdout",
     "output_type": "stream",
     "text": [
      "Initialized\n",
      "Minibatch loss at step 0: 6824.564453\n",
      "Minibatch accuracy: 5.5%\n",
      "Validation accuray: 13.1%\n",
      "Minibatch loss at step 500: 590.726440\n",
      "Minibatch accuracy: 80.5%\n",
      "Validation accuray: 78.9%\n",
      "Minibatch loss at step 1000: 332.070007\n",
      "Minibatch accuracy: 86.7%\n",
      "Validation accuray: 80.5%\n",
      "Minibatch loss at step 1500: 327.249634\n",
      "Minibatch accuracy: 82.8%\n",
      "Validation accuray: 81.3%\n",
      "Minibatch loss at step 2000: 293.267700\n",
      "Minibatch accuracy: 83.6%\n",
      "Validation accuray: 81.8%\n",
      "Minibatch loss at step 2500: 280.961914\n",
      "Minibatch accuracy: 83.6%\n",
      "Validation accuray: 81.9%\n",
      "Minibatch loss at step 3000: 299.365265\n",
      "Minibatch accuracy: 78.1%\n",
      "Validation accuray: 82.5%\n",
      "Testing accuracy: 89.9%\n"
     ]
    }
   ],
   "source": [
    "num_steps = 3001\n",
    "\n",
    "with tf.Session(graph=graph) as session:\n",
    "    tf.initialize_all_variables().run()\n",
    "    print('Initialized')\n",
    "    for step in range(num_steps):\n",
    "        offset = (step * batch_size) % (train_labels.shape[0] - batch_size)\n",
    "        batch_data = train_dataset[offset:(offset + batch_size), ]\n",
    "        batch_labels = train_labels[offset:(offset + batch_size)]\n",
    "        feed_dict = {tf_train_dataset: batch_data, tf_train_labels: batch_labels}\n",
    "        _, l, predictions = session.run([optimizer, loss, train_prediction], feed_dict=feed_dict)\n",
    "        \n",
    "        if ((step % 500) == 0):\n",
    "            print(\"Minibatch loss at step %i: %f\" %(step, l))\n",
    "            print('Minibatch accuracy: %.1f%%' % (accuracy(predictions, batch_labels)))\n",
    "            print('Validation accuray: %.1f%%' % (accuracy(valid_prediction.eval(), valid_labels)))\n",
    "    print('Testing accuracy: %.1f%%' % (accuracy(test_prediction.eval(), test_labels)))\n",
    "        "
   ]
  },
  {
   "cell_type": "code",
   "execution_count": null,
   "metadata": {
    "collapsed": true
   },
   "outputs": [],
   "source": []
  }
 ],
 "metadata": {
  "colab": {
   "default_view": {},
   "name": "3_regularization.ipynb",
   "provenance": [],
   "version": "0.3.2",
   "views": {}
  },
  "kernelspec": {
   "display_name": "Python 2",
   "language": "python",
   "name": "python2"
  },
  "language_info": {
   "codemirror_mode": {
    "name": "ipython",
    "version": 2
   },
   "file_extension": ".py",
   "mimetype": "text/x-python",
   "name": "python",
   "nbconvert_exporter": "python",
   "pygments_lexer": "ipython2",
   "version": "2.7.10"
  }
 },
 "nbformat": 4,
 "nbformat_minor": 0
}
